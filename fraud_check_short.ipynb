{
  "nbformat": 4,
  "nbformat_minor": 0,
  "metadata": {
    "colab": {
      "name": "fraud_check_short.ipynb",
      "provenance": [],
      "collapsed_sections": []
    },
    "kernelspec": {
      "name": "python3",
      "display_name": "Python 3"
    },
    "language_info": {
      "name": "python"
    }
  },
  "cells": [
    {
      "cell_type": "code",
      "execution_count": null,
      "metadata": {
        "id": "stGUcTZMPeTx"
      },
      "outputs": [],
      "source": [
        "import numpy as np\n",
        "import regex as re\n",
        "import time"
      ]
    },
    {
      "cell_type": "code",
      "source": [
        "!pip install pyaspeller --quiet\n",
        "import pyaspeller"
      ],
      "metadata": {
        "id": "Mu14pM5rPkCy",
        "colab": {
          "base_uri": "https://localhost:8080/"
        },
        "outputId": "e1936a13-935e-4f10-fe20-65ac1882fc6b"
      },
      "execution_count": null,
      "outputs": [
        {
          "output_type": "stream",
          "name": "stdout",
          "text": [
            "\u001b[?25l\r\u001b[K     |█████▏                          | 10 kB 26.5 MB/s eta 0:00:01\r\u001b[K     |██████████▍                     | 20 kB 34.3 MB/s eta 0:00:01\r\u001b[K     |███████████████▋                | 30 kB 40.8 MB/s eta 0:00:01\r\u001b[K     |████████████████████▊           | 40 kB 16.3 MB/s eta 0:00:01\r\u001b[K     |██████████████████████████      | 51 kB 16.9 MB/s eta 0:00:01\r\u001b[K     |███████████████████████████████▏| 61 kB 19.6 MB/s eta 0:00:01\r\u001b[K     |████████████████████████████████| 63 kB 1.5 MB/s \n",
            "\u001b[31mERROR: pip's dependency resolver does not currently take into account all the packages that are installed. This behaviour is the source of the following dependency conflicts.\n",
            "google-colab 1.0.0 requires requests~=2.23.0, but you have requests 2.27.1 which is incompatible.\n",
            "datascience 0.10.6 requires folium==0.2.1, but you have folium 0.8.3 which is incompatible.\u001b[0m\n",
            "\u001b[?25h"
          ]
        }
      ]
    },
    {
      "cell_type": "code",
      "source": [
        "def splitStrNum(text):\n",
        "    '''\n",
        "        text - слово для проверки\n",
        "        разделяет текст типа \"live48\" на \"live 48\"\n",
        "    '''\n",
        "    tmp1 = re.findall(\"[0-9]+\",text)\n",
        "    tmp2 = re.findall(\"[^0-9]+\",text)\n",
        "    tmp2 = \"\".join(tmp2)\n",
        "    tmp1 = \"\".join(tmp1)\n",
        "    order_flag = 0\n",
        "    for i in text:\n",
        "        if i.isalpha():\n",
        "            order_flag = 0\n",
        "            break\n",
        "        elif i.isdigit():\n",
        "            order_flag = 1\n",
        "            break\n",
        "    # print(tmp1,tmp2)\n",
        "    if tmp1 == \"\":\n",
        "        text = tmp2\n",
        "    else:\n",
        "        if order_flag == 0:\n",
        "            text = tmp2 + \" \" + tmp1\n",
        "        else:\n",
        "            text = tmp1 + \" \" + tmp2\n",
        "    return text"
      ],
      "metadata": {
        "id": "EC8YqNHMRXbV"
      },
      "execution_count": null,
      "outputs": []
    },
    {
      "cell_type": "code",
      "source": [
        "def notRusInWord(word) -> bool:\n",
        "    '''\n",
        "        word - входной текст\n",
        "        возвращает True, если в слове нет русских букв\n",
        "        иначе False \n",
        "    '''\n",
        "    return (not True in [a.lower() in 'абвгдеёжзийклмнопрстуфхцчшщъыьэюя' for a in word])"
      ],
      "metadata": {
        "id": "sEZ31AJZRZIq"
      },
      "execution_count": null,
      "outputs": []
    },
    {
      "cell_type": "code",
      "source": [
        "def checkZeroWeightRight(speller,word,spelled_word,debug=False) -> bool:\n",
        "    '''\n",
        "        speller - корректор ошибок\n",
        "        word - строка для проверки\n",
        "        spelled_word - исправленное оригинальное слово\n",
        "        debug - режим отладки\n",
        "        проверяет слово, если у него скор меньше порогового \n",
        "        (например у \"йцукенг\" скор 0.25) \n",
        "    '''\n",
        "    start = time.time()\n",
        "    not_rus_word = notRusInWord(word.lower())\n",
        "    not_rus_spelled_word = notRusInWord(spelled_word.lower())\n",
        "    if debug:\n",
        "        print(not_rus_word==not_rus_spelled_word)\n",
        "    word_on_eng = transliter_rus2eng(spelled_word,not_rus_word!=not_rus_spelled_word,debug)    \n",
        "    try:\n",
        "        word_back = speller.spelled(word_on_eng)\n",
        "    except:\n",
        "        word_back = word_on_eng\n",
        "    word_back = \"\".join(word_back.split(\" \"))\n",
        "    \n",
        "    spelled_word = \"\".join(spelled_word.split(\" \"))\n",
        "    if word == word_on_eng:\n",
        "        word_back = spelled_word    \n",
        "    not_rus_back_word = notRusInWord(word_back.lower())\n",
        "    not_rus_eng_word = notRusInWord(word_on_eng.lower()) \n",
        "    if debug:\n",
        "        print(word_back,word,word_on_eng,spelled_word)\n",
        "        print(\"checkZeroWeightRight: \",time.time() - start)\n",
        "    return (word_back == spelled_word or (not_rus_eng_word != not_rus_back_word and word_on_eng == spelled_word))"
      ],
      "metadata": {
        "id": "CURzBBZDRaT6"
      },
      "execution_count": null,
      "outputs": []
    },
    {
      "cell_type": "code",
      "source": [
        "def checkCorrect(speller,text,return_weight,debug = False) -> float:\n",
        "    '''     \n",
        "        speller - корректор ошибок\n",
        "        text - строка для проверки\n",
        "        return_weight - если True, то вернет вес от 0 до 1, иначе вернет флаг фрода (0 или 1)\n",
        "        debug - режим отладки (True - включить)\n",
        "        возвращает 1, если ответ фрод\n",
        "        иначе 0 \n",
        "    '''\n",
        "    start = time.time()\n",
        "    if debug:\n",
        "        print(text)\n",
        "    default_threeshold = 0.551\n",
        "    tmp_prepare = prepare_text(text)\n",
        "    tmp = tmp_prepare\n",
        "    # если сайт, то не фрод\n",
        "    if \".ru\" in text or \".com\" in text or \".ру\" in text:\n",
        "        return 0\n",
        "    tmp = tmp.replace(\".\",\"\")\n",
        "    # если длина алфавита - один симфол, то фрод\n",
        "    if len(set(tmp.replace(\" \",\"\"))) <= 1:\n",
        "        return 1\n",
        "    # если только из чисел ответ, то фрод\n",
        "    if True not in [w.isalpha() for w in tmp]:\n",
        "        return 1\n",
        "    judge = []\n",
        "    if debug:\n",
        "        print(tmp)\n",
        "    for word in list(tmp.split(\" \")):\n",
        "        len_word = len(word)\n",
        "        list_set_word = list(set(word))\n",
        "        is_alpha_in_list = True in [i.isalpha() for i in list_set_word]\n",
        "        if len(list_set_word) == 0:\n",
        "            continue\n",
        "        lstWords = []\n",
        "        if True in [s.isdigit() for s in word]:\n",
        "            word = splitStrNum(word)\n",
        "        if debug:\n",
        "            print(\"word:\",word)\n",
        "        \n",
        "        oneLenWords = ['а','в','и','к','о','с','у','я','р']\n",
        "        twoLenWords = ['из','вы','бы','гб','да','до','fm','фм'\n",
        "                       'еж','за','их','кг','ко','мы',\n",
        "                       'на','не','но','ну','об','он',\n",
        "                       'от','по','ту','те','ты','та','то',\n",
        "                       'уж','ух','уф','ус','че','шо','тв','tv','тц',\n",
        "                       'ща','юг','яд','хз','ру','fm','ne','da','vk','вк','рф']\n",
        "        # проверка на скудность алфавита (типа лалалала ркуркурку и тд)\n",
        "        if (len_word/len(list_set_word) >= 2) and len_word > 6:\n",
        "            judge.append(0.7)\n",
        "        elif (len(list_set_word) == 2) and len_word > 4:\n",
        "            judge.append(0.7)            \n",
        "        elif len_word in range(3,4):\n",
        "            judge.append(shortAnsCheck(speller,word,debug))\n",
        "        elif len_word > 2 and is_alpha_in_list:\n",
        "            long_ans_w, long_ans_l = checkLongWord(speller,word,len_word,debug)\n",
        "            judge.append(long_ans_w)\n",
        "            lstWords = long_ans_l\n",
        "        elif word in oneLenWords:\n",
        "            # добавлям дефолтный вес, если слово длинной 1\n",
        "            judge.append(default_threeshold)\n",
        "        elif word in twoLenWords:\n",
        "            # добавлям дефолтный вес, если слово длинной 2\n",
        "            judge.append(default_threeshold)   \n",
        "        # иначе если слово не из букв алфавита, то добавляем дефолтный вес         \n",
        "        elif not is_alpha_in_list:\n",
        "            judge.append(default_threeshold+0.1)\n",
        "        # иначе ставим вес чуть больше порогового\n",
        "        else:\n",
        "            judge.append(3/5)\n",
        "        # дополнительная проверка слова\n",
        "        if (judge[-1] <= 0.55 and len_word > 5) or (judge[-1] == 0 and len_word!=3):\n",
        "            if debug:\n",
        "                print('zero gravity:',lstWords)\n",
        "            isZero = checkZeroWeightRight(speller,word,lstWords[-1],debug)\n",
        "            if isZero:\n",
        "                judge[-1] = 0.05\n",
        "            else:\n",
        "                judge[-1] = 0.95\n",
        "    if len(judge) == 0:\n",
        "        # дефолтный случай (вроде ниразу не было)\n",
        "        retVal = speller.spelled(tmp)\n",
        "        print(\"what\")\n",
        "        return retVal\n",
        "    if debug:\n",
        "        print(judge)\n",
        "    # усредняем веса и это будет результирующий скор\n",
        "    retVal = np.mean(judge)\n",
        "    if debug:\n",
        "        print(\"checkCorrect: \",time.time() - start)\n",
        "    if return_weight:\n",
        "        return retVal\n",
        "    else:\n",
        "        return 0 if retVal <= 0.55 else 1"
      ],
      "metadata": {
        "id": "nIG4zxQuRboC"
      },
      "execution_count": null,
      "outputs": []
    },
    {
      "cell_type": "code",
      "source": [
        "def checkLongWord(speller,word,len_word,debug):\n",
        "    '''\n",
        "        speller - корректор опечаток\n",
        "        word - проверяемое слово\n",
        "        len_word - длина слова\n",
        "        debug - режим отладки\n",
        "        проверяет слова, длиной больше трех \n",
        "    '''\n",
        "    start = time.time()\n",
        "    lstWords = []\n",
        "    if debug:\n",
        "        print(word)\n",
        "    spelled_word = speller.spelled(word)\n",
        "    if abs(len_word - len(spelled_word)) <= 2:\n",
        "        word = spelled_word \n",
        "    # if len(word) <= 7:\n",
        "    for i,symbol in enumerate(word):\n",
        "        if symbol.isalpha() and len(lstWords) <= 5:\n",
        "            # для случая, когда есть удвоенные буквы (они дадут одни и теже варианты, что не очень хорошо, как замечено)\n",
        "            if i!=0 and i != len_word-1 and word[i] == word[i-1]:\n",
        "                continue\n",
        "            else:\n",
        "                lstWords.append(word[:i]+word[i]+word[i:])\n",
        "\n",
        "    # if len(word) >= 8:\n",
        "    #     for i,symbol in enumerate(word):\n",
        "    #         if i!=0 and i != len_word-1 and word[i] == word[i-1]:\n",
        "    #             continue          \n",
        "    #         elif len(lstWords) <= 5:\n",
        "    #             lstWords.append(word[:i]+word[i+1:])\n",
        "    #         else:\n",
        "    #             break\n",
        "    lstWords.append(word)  \n",
        "    lst_index = len(lstWords) \n",
        "    count_equal_in_row = 0\n",
        "    count_different_in_row = 0\n",
        "    for i,elem in enumerate(lstWords):\n",
        "        pos_var = speller.spelled(elem)\n",
        "        if abs(len_word - len(pos_var)) < 3 or (pos_var in word) or (word in pos_var):\n",
        "            if debug:\n",
        "                print(\"checkLongWord variant \",elem,\":\",time.time() - start)\n",
        "            lstWords[i] = speller.spelled(elem)\n",
        "            if i!=0 and lstWords[i]!=lstWords[i-1]:\n",
        "                count_different_in_row+=1\n",
        "            else:\n",
        "                count_different_in_row = 0\n",
        "        if i!=0 and lstWords[i] == lstWords[i-1]:\n",
        "            count_equal_in_row+=1\n",
        "        if count_equal_in_row == 3 or count_different_in_row == 3:\n",
        "            # если 4 подряд одинаковых варианта или 4 подряд разных, то остановка\n",
        "            lst_index = i\n",
        "            break\n",
        "    if debug:\n",
        "        print(lstWords[:lst_index])\n",
        "    lstWords = lstWords[:lst_index]\n",
        "\n",
        "    tmp_weight = (len(set(lstWords[:lst_index]))-1) / (len(lstWords[:lst_index])-1)\n",
        "    \n",
        "    if debug:\n",
        "        print(tmp_weight)    \n",
        "        print(\"checkLongWord: \",time.time() - start)\n",
        "    return tmp_weight, lstWords"
      ],
      "metadata": {
        "id": "vYA3diIFRc2C"
      },
      "execution_count": null,
      "outputs": []
    },
    {
      "cell_type": "code",
      "source": [
        "def shortAnsCheck(speller,word,debug) -> float:\n",
        "    '''\n",
        "        speller - корректор опечаток\n",
        "        word - проверяемое слово\n",
        "        debug - режим отладки\n",
        "        проверяет слово длиной 3\n",
        "        волшебной палочкой добавляем слово \"это\" и \"есть\"\n",
        "        для того, чтобы было больше \"контекста\"\n",
        "        так проверка орфографии лучше рабоатет\n",
        "        можно подтягивать текст вопроса, но лучше не надо\n",
        "    '''\n",
        "    start = time.time()\n",
        "    temp_sym = ''\n",
        "    for j in word:\n",
        "        if j.isalpha():\n",
        "            temp_sym = j\n",
        "            break\n",
        "    if temp_sym == '':\n",
        "        return 0.6\n",
        "    w1 = \"это \"\n",
        "    w2 = \"есть \"\n",
        "    temp_w1_3 = w1 + temp_sym + word\n",
        "    temp_w1_3 = speller.spelled(temp_w1_3)\n",
        "    temp_w1_3 = temp_w1_3.replace(w1,\"\")\n",
        "    temp_w2_3 = w2 + temp_sym + word\n",
        "    temp_w2_3 = speller.spelled(temp_w2_3)\n",
        "    temp_w2_3 = temp_w2_3.replace(w2,\"\")    \n",
        "    if debug:\n",
        "        print(temp_w1_3,word,temp_sym + word)\n",
        "        print(temp_w2_3,word,temp_sym + word)\n",
        "    if (temp_w1_3 == word or (word in temp_w1_3 and temp_w1_3 != temp_sym + word))\\\n",
        "        or (temp_w2_3 == word or (word in temp_w2_3 and temp_w2_3 != temp_sym + word)):\n",
        "        retVal = 0.25\n",
        "    else:\n",
        "        retVal = 0.75\n",
        "    if debug:\n",
        "        print(\"shortAnsCheck: \",time.time() - start)\n",
        "    return retVal"
      ],
      "metadata": {
        "id": "H3Gp64nXRfI5"
      },
      "execution_count": null,
      "outputs": []
    },
    {
      "cell_type": "code",
      "source": [
        "def transliter_rus2eng(text,diflang,debug):\n",
        "    '''\n",
        "        делает из привет -> ghbdtn\n",
        "        или из ghbdtn -> привет (если текст на английском) \n",
        "    '''\n",
        "    start = time.time()\n",
        "    layout_dict = {\n",
        "        'q':'й','w':'ц','e':'у','r':'к',\n",
        "        't':'е','y':'н','u':'г','i':'ш',\n",
        "        'o':'щ','p':'з','[':'х',']':'ъ',\n",
        "        'a':'ф','s':'ы','d':'в','f':'а',\n",
        "        'g':'п','h':'р','j':'о','k':'л',\n",
        "        'l':'д',';':'ж',\"'\":'э','z':'я',\n",
        "        'x':'ч','c':'с','v':'м','b':'и',\n",
        "        'n':'т','m':'ь',',':'б','.':'ю'\n",
        "    }    \n",
        "    new_d = dict((v, k) for k, v in layout_dict.items())\n",
        "    retVal = \"\"\n",
        "    for i,t in enumerate(text):\n",
        "        try:\n",
        "            retVal+=(new_d[t])\n",
        "        except:\n",
        "            if diflang:\n",
        "                try:\n",
        "                    retVal+=layout_dict[t]\n",
        "                except:\n",
        "                    retVal+=(t)\n",
        "            else:\n",
        "                retVal+=(t)\n",
        "    if debug:\n",
        "        print(\"transliter_rus2eng: \",time.time() - start)\n",
        "    return retVal"
      ],
      "metadata": {
        "id": "H0OGCcQwRgfC"
      },
      "execution_count": null,
      "outputs": []
    },
    {
      "cell_type": "code",
      "source": [
        "def prepare_text(text):\n",
        "    '''\n",
        "        удаляет все символы кроме '.',',','!','?', \n",
        "        цифр и символов рус и англ алфавитов\n",
        "        заменяет ё на е, \n",
        "    '''    \n",
        "    # text = text.replace(\".ru\",\"\")\n",
        "    # text = text.replace(\".ру\",\"\")\n",
        "    text = text.replace(\"ё\",\"е\")\n",
        "    # text = word_collapse(text,2)\n",
        "    rule = \"[1-9a-zA-Zа-яА-Я\\s.!?,]+\"\n",
        "    res = \" \".join(re.findall(rule, text))\n",
        "    res = res.replace(\".\",\" \")\n",
        "    res = res.replace(\",\",\" \")\n",
        "    res = res.replace(\"!\",\" \")\n",
        "    res = res.replace(\"?\",\" \")\n",
        "    if res == \"\":\n",
        "        res = \"11111\"\n",
        "    elif res[-1] == \" \":\n",
        "        res = res[0:-1]\n",
        "\n",
        "    while \"  \" in res:\n",
        "        res = str.replace(res,\"  \",\" \")\n",
        "    return res"
      ],
      "metadata": {
        "id": "RvcFMBecRh6i"
      },
      "execution_count": null,
      "outputs": []
    },
    {
      "cell_type": "code",
      "source": [
        "speller = pyaspeller.YandexSpeller(lang='ru')"
      ],
      "metadata": {
        "id": "SB8_SljtPsxa"
      },
      "execution_count": null,
      "outputs": []
    },
    {
      "cell_type": "code",
      "source": [
        "checkCorrect(speller,\"подтпе\",True,True)"
      ],
      "metadata": {
        "id": "6A1txunuSCdX",
        "colab": {
          "base_uri": "https://localhost:8080/"
        },
        "outputId": "fb416478-9fb6-442b-c463-bf73c00f6d16"
      },
      "execution_count": null,
      "outputs": [
        {
          "output_type": "stream",
          "name": "stdout",
          "text": [
            "подтпе\n",
            "подтпе\n",
            "word: подтпе\n",
            "подтпе\n",
            "checkLongWord variant  пподтипе : 1.3863108158111572\n",
            "checkLongWord variant  поодтипе : 2.7173702716827393\n",
            "checkLongWord variant  поддтипе : 4.048262596130371\n",
            "checkLongWord variant  подттипе : 5.299460172653198\n",
            "['подтипе', 'подтипе', 'подтипе']\n",
            "0.0\n",
            "checkLongWord:  5.878225326538086\n",
            "zero gravity: ['подтипе', 'подтипе', 'подтипе']\n",
            "True\n",
            "transliter_rus2eng:  2.0265579223632812e-05\n",
            "подтипе подтпе gjlnbgt подтипе\n",
            "checkZeroWeightRight:  0.6505413055419922\n",
            "[0.05]\n",
            "checkCorrect:  6.530706882476807\n"
          ]
        },
        {
          "output_type": "execute_result",
          "data": {
            "text/plain": [
              "0.05"
            ]
          },
          "metadata": {},
          "execution_count": 44
        }
      ]
    },
    {
      "cell_type": "code",
      "source": [
        "speller.spelled(\"1исбет\")"
      ],
      "metadata": {
        "colab": {
          "base_uri": "https://localhost:8080/",
          "height": 35
        },
        "id": "pDofJkkdDlBz",
        "outputId": "79bea837-ca99-4124-8936-456a7cfd51c1"
      },
      "execution_count": null,
      "outputs": [
        {
          "output_type": "execute_result",
          "data": {
            "text/plain": [
              "'1исбет'"
            ],
            "application/vnd.google.colaboratory.intrinsic+json": {
              "type": "string"
            }
          },
          "metadata": {},
          "execution_count": 31
        }
      ]
    },
    {
      "cell_type": "code",
      "source": [
        "checkZeroWeightRight(speller,\"1исбет\",\"1исбет\",True)"
      ],
      "metadata": {
        "colab": {
          "base_uri": "https://localhost:8080/"
        },
        "id": "Oi_D-14Urs9_",
        "outputId": "f775f1ef-dc44-4bdd-c934-ea0740374d2f"
      },
      "execution_count": null,
      "outputs": [
        {
          "output_type": "stream",
          "name": "stdout",
          "text": [
            "True\n",
            "transliter_rus2eng:  3.2901763916015625e-05\n",
            "1bc,tn 1исбет 1bc,tn 1исбет\n",
            "checkZeroWeightRight:  0.6277258396148682\n"
          ]
        },
        {
          "output_type": "execute_result",
          "data": {
            "text/plain": [
              "False"
            ]
          },
          "metadata": {},
          "execution_count": 14
        }
      ]
    },
    {
      "cell_type": "code",
      "source": [
        "checkCorrect(speller,\"1иксбет\",False,True)"
      ],
      "metadata": {
        "colab": {
          "base_uri": "https://localhost:8080/"
        },
        "id": "M_clpdLPASnQ",
        "outputId": "bf47074e-3a4e-4a33-d238-c49ca78a37c3"
      },
      "execution_count": null,
      "outputs": [
        {
          "output_type": "stream",
          "name": "stdout",
          "text": [
            "1иксбет\n",
            "1иксбет\n",
            "word: 1 иксбет\n",
            "1 иксбет\n",
            "checkLongWord variant   иксбет : 0.5880241394042969\n",
            "checkLongWord variant  1иксбет : 1.7997615337371826\n",
            "checkLongWord variant  1 ксбет : 3.073932409286499\n",
            "checkLongWord variant  1 исбет : 4.377570152282715\n",
            "[' иксбет', '1иксбет', '1 ксбет']\n",
            "1.0\n",
            "checkLongWord:  5.017582178115845\n",
            "[1.0]\n",
            "checkCorrect:  5.021924257278442\n"
          ]
        },
        {
          "output_type": "execute_result",
          "data": {
            "text/plain": [
              "1"
            ]
          },
          "metadata": {},
          "execution_count": 15
        }
      ]
    },
    {
      "cell_type": "code",
      "source": [
        "gen = speller.spell(\"троквезасин\")\n",
        "fst = next(gen)\n",
        "fst['s']"
      ],
      "metadata": {
        "colab": {
          "base_uri": "https://localhost:8080/"
        },
        "id": "UXsrmLBig7p2",
        "outputId": "aed61b85-7ec9-4a6a-f1e4-9a319ceb9731"
      },
      "execution_count": null,
      "outputs": [
        {
          "output_type": "execute_result",
          "data": {
            "text/plain": [
              "['троксевазин', 'троксевасин', 'троквевазин']"
            ]
          },
          "metadata": {},
          "execution_count": 35
        }
      ]
    },
    {
      "cell_type": "code",
      "source": [
        "fst = next(gen)\n",
        "fst['s']"
      ],
      "metadata": {
        "colab": {
          "base_uri": "https://localhost:8080/"
        },
        "id": "oKpqdgnyhIHL",
        "outputId": "c1031163-d875-4e2c-de11-b5f28ce70a55"
      },
      "execution_count": null,
      "outputs": [
        {
          "output_type": "execute_result",
          "data": {
            "text/plain": [
              "['мгшв', 'вгшв', 'вгсв', 'вгв']"
            ]
          },
          "metadata": {},
          "execution_count": 32
        }
      ]
    },
    {
      "cell_type": "code",
      "source": [
        "speller = Hunspell()"
      ],
      "metadata": {
        "id": "3nI5pNbtYfPa"
      },
      "execution_count": null,
      "outputs": []
    },
    {
      "cell_type": "code",
      "source": [
        "from textblob import TextBlob"
      ],
      "metadata": {
        "id": "hBwfrg_7Ynz4"
      },
      "execution_count": null,
      "outputs": []
    },
    {
      "cell_type": "code",
      "source": [
        "TextBlob"
      ],
      "metadata": {
        "id": "AU3uIdaHam8K"
      },
      "execution_count": null,
      "outputs": []
    },
    {
      "cell_type": "code",
      "source": [
        "a = TextBlob(\"не поял\")"
      ],
      "metadata": {
        "id": "iToZ443uaVa3"
      },
      "execution_count": null,
      "outputs": []
    },
    {
      "cell_type": "code",
      "source": [
        "a.correct()"
      ],
      "metadata": {
        "colab": {
          "base_uri": "https://localhost:8080/"
        },
        "id": "Fhg8eGFMaktu",
        "outputId": "99f7be7a-fdcc-421d-f2d5-bfd25394372a"
      },
      "execution_count": null,
      "outputs": [
        {
          "output_type": "execute_result",
          "data": {
            "text/plain": [
              "TextBlob(\"of поял\")"
            ]
          },
          "metadata": {},
          "execution_count": 26
        }
      ]
    }
  ]
}