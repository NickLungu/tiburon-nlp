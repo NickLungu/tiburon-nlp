{
  "nbformat": 4,
  "nbformat_minor": 0,
  "metadata": {
    "colab": {
      "name": "frod_tiburon.ipynb",
      "provenance": [],
      "collapsed_sections": []
    },
    "kernelspec": {
      "name": "python3",
      "display_name": "Python 3"
    },
    "language_info": {
      "name": "python"
    }
  },
  "cells": [
    {
      "cell_type": "code",
      "source": [
        "!pip install transliterate --quiet"
      ],
      "metadata": {
        "id": "I5JQpJMg_lEJ",
        "colab": {
          "base_uri": "https://localhost:8080/"
        },
        "outputId": "4dfbb1c4-3869-4171-9763-1c7b2f7bdcbd"
      },
      "execution_count": 2,
      "outputs": [
        {
          "output_type": "stream",
          "name": "stdout",
          "text": [
            "\u001b[?25l\r\u001b[K     |███████▏                        | 10 kB 17.6 MB/s eta 0:00:01\r\u001b[K     |██████████████▎                 | 20 kB 21.9 MB/s eta 0:00:01\r\u001b[K     |█████████████████████▌          | 30 kB 13.8 MB/s eta 0:00:01\r\u001b[K     |████████████████████████████▋   | 40 kB 10.0 MB/s eta 0:00:01\r\u001b[K     |████████████████████████████████| 45 kB 1.4 MB/s \n",
            "\u001b[?25h"
          ]
        }
      ]
    },
    {
      "cell_type": "code",
      "execution_count": 3,
      "metadata": {
        "id": "hOHP1SSm9ffm"
      },
      "outputs": [],
      "source": [
        "import numpy as np\n",
        "import pandas as pd\n",
        "import matplotlib.pyplot as plt\n",
        "import regex as re\n",
        "import string\n",
        "from transliterate import translit"
      ]
    },
    {
      "cell_type": "code",
      "source": [
        "# df_garbage_1 = pd.read_excel(\"/content/drive/MyDrive/datasets/tiburon/garbage 1_done.xlsx\")\n",
        "# df_garbage_2 = pd.read_excel(\"/content/drive/MyDrive/datasets/tiburon/garbage 2_done.xlsx\")\n",
        "# df_garbage_3 = pd.read_excel(\"/content/drive/MyDrive/datasets/tiburon/garbage 3_done.xlsx\")\n",
        "# df_garbage_4 = pd.read_excel(\"/content/drive/MyDrive/datasets/tiburon/garbage 4_done.xlsx\")\n",
        "# df_garbage_5 = pd.read_excel(\"/content/drive/MyDrive/datasets/tiburon/garbage 5_done.xlsx\")\n",
        "# df_garbage_6 = pd.read_excel(\"/content/drive/MyDrive/datasets/tiburon/garbage 6_done.xlsx\")\n",
        "# df_garbage_7 = pd.read_excel(\"/content/drive/MyDrive/datasets/tiburon/garbage 7_done.xlsx\")\n",
        "# df_garbage_9 = pd.read_excel(\"/content/drive/MyDrive/datasets/tiburon/garbage 9_done.xlsx\")\n",
        "dataset_all = pd.read_excel(\"/content/drive/MyDrive/datasets/tiburon/df_garbage_all.xlsx\")"
      ],
      "metadata": {
        "id": "4Jw92L-dBegX"
      },
      "execution_count": 25,
      "outputs": []
    },
    {
      "cell_type": "code",
      "source": [
        "dataset_all['real label'].fillna(0,inplace=True)\n",
        "dataset_all.loc[dataset_all.text.isna(),\"text\"] = \"0\"\n",
        "dataset_all.text = dataset_all.text.astype(str)"
      ],
      "metadata": {
        "id": "zJcUAnyoWc18"
      },
      "execution_count": 26,
      "outputs": []
    },
    {
      "cell_type": "markdown",
      "source": [
        "Подготовка данных"
      ],
      "metadata": {
        "id": "_EKRtoecr6dD"
      }
    },
    {
      "cell_type": "code",
      "source": [
        "# для обучения\n",
        "dataset = pd.DataFrame({\n",
        "    'text':dataset_all.text,\n",
        "    'target':dataset_all['real label']\n",
        "})"
      ],
      "metadata": {
        "id": "_SxG8dzuFGk3"
      },
      "execution_count": 65,
      "outputs": []
    },
    {
      "cell_type": "code",
      "source": [
        "# dataset_rus = dataset[dataset.text.apply(lambda x: (len(re.findall(\"[A-Za-z]+\",x)) == 0))]\n",
        "# dataset_eng = dataset[dataset.text.apply(lambda x: (len(re.findall(\"[A-Za-z]+\",x)) > 0))]"
      ],
      "metadata": {
        "id": "orRkeRtfCL6x"
      },
      "execution_count": null,
      "outputs": []
    },
    {
      "cell_type": "code",
      "source": [
        "dataset.target.value_counts()"
      ],
      "metadata": {
        "colab": {
          "base_uri": "https://localhost:8080/"
        },
        "id": "DRzoQTh2WMOo",
        "outputId": "a7076c47-e860-4e22-8cc1-4704bf219d4b"
      },
      "execution_count": 28,
      "outputs": [
        {
          "output_type": "execute_result",
          "data": {
            "text/plain": [
              "0.0    78095\n",
              "1.0     1913\n",
              "Name: target, dtype: int64"
            ]
          },
          "metadata": {},
          "execution_count": 28
        }
      ]
    },
    {
      "cell_type": "code",
      "source": [
        "def word_collapse(text,collapse_coef=3):\n",
        "    # схлопывает повторяющиеся символы в один в заданном минимальном количестве повторений\n",
        "    # например 11111123 -> 123\n",
        "    text += \".\"\n",
        "    retVal = \"\"\n",
        "    if len(text) == 1:\n",
        "        return text\n",
        "    counter = 1\n",
        "    counters = []\n",
        "    for idx in range(0,len(text)-1):\n",
        "        next = text[idx+1]\n",
        "        if idx > 0 and text[idx] == next:\n",
        "            counter += 1\n",
        "        if text[idx] != next:\n",
        "            retVal += text[idx]\n",
        "            counters.append(counter)\n",
        "            counter = 1\n",
        "    retValNew = \"\"\n",
        "    # print(counters)\n",
        "    # print(retVal)\n",
        "    for c,r in zip(counters,retVal):\n",
        "        retValNew = retValNew + r*(min(c,collapse_coef))\n",
        "    return retValNew"
      ],
      "metadata": {
        "id": "LRtUg_z5W5JN"
      },
      "execution_count": 172,
      "outputs": []
    },
    {
      "cell_type": "code",
      "source": [
        "dataset['text'] = dataset['text'].apply(lambda x: str(word_collapse(x,3)))\n",
        "# dataset_eng['text'] = dataset_eng['text'].apply(lambda x: word_collapse(x,3))"
      ],
      "metadata": {
        "id": "36S7ZCmRC8Qc"
      },
      "execution_count": 67,
      "outputs": []
    },
    {
      "cell_type": "code",
      "source": [
        "def transliter(text):\n",
        "    # делает из asdasd -> асдасд фывфыв\n",
        "    layout_dict = {\n",
        "        'q':'й','w':'ц','e':'у','r':'к',\n",
        "        't':'е','y':'н','u':'г','i':'ш',\n",
        "        'o':'щ','p':'з','[':'х',']':'ъ',\n",
        "        'a':'ф','s':'ы','d':'в','f':'а',\n",
        "        'g':'п','h':'р','j':'о','k':'л',\n",
        "        'l':'д',';':'ж',\"'\":'э','z':'я',\n",
        "        'x':'ч','c':'с','v':'м','b':'и',\n",
        "        'n':'т','m':'ь',',':'б','.':'ю'\n",
        "    }    \n",
        "    if len(re.findall(\"[A-Za-z]+\",text)) > 0:\n",
        "        word_1 = translit(text,\"ru\")\n",
        "        word_2 = \"\"\n",
        "        for idx in range(len(text)):\n",
        "            try:\n",
        "                word_2 += layout_dict[text[idx]]\n",
        "            except:\n",
        "                word_2 += text[idx]\n",
        "        return word_2\n",
        "    return text"
      ],
      "metadata": {
        "id": "jrpsaP2yF9mk"
      },
      "execution_count": 68,
      "outputs": []
    },
    {
      "cell_type": "code",
      "source": [
        "dataset['text'] = dataset['text'].apply(lambda x: transliter(x))"
      ],
      "metadata": {
        "id": "ter9TVhVcxg6"
      },
      "execution_count": 69,
      "outputs": []
    },
    {
      "cell_type": "markdown",
      "source": [
        "## Ridge model + tf-idf"
      ],
      "metadata": {
        "id": "d3xZLDSGqJ08"
      }
    },
    {
      "cell_type": "code",
      "source": [
        "from sklearn.pipeline import Pipeline, FeatureUnion\n",
        "from sklearn.feature_extraction.text import TfidfVectorizer\n",
        "from sklearn.linear_model import Ridge\n",
        "import warnings\n",
        "warnings.filterwarnings(\"ignore\")"
      ],
      "metadata": {
        "id": "O9em6RnHKqcB"
      },
      "execution_count": 29,
      "outputs": []
    },
    {
      "cell_type": "code",
      "source": [
        "from sklearn.model_selection import train_test_split"
      ],
      "metadata": {
        "id": "LNw11s7na5QR"
      },
      "execution_count": 30,
      "outputs": []
    },
    {
      "cell_type": "code",
      "source": [
        "features = FeatureUnion([\n",
        "        # ('vect1', norma_unique(X)),\n",
        "        (\"vect3\", TfidfVectorizer(min_df= 3, max_df=0.8, analyzer = 'char_wb', ngram_range = (2,10))),\n",
        "        # (\"vect4\", TfidfVectorizer(min_df= 5, max_df=0.5, analyzer = 'word', token_pattern=r'(?u)\\b\\w{8,}\\b')),\n",
        "        ])"
      ],
      "metadata": {
        "id": "z63TD4ObauXr"
      },
      "execution_count": 31,
      "outputs": []
    },
    {
      "cell_type": "code",
      "source": [
        "pipeline = Pipeline(\n",
        "    [\n",
        "        (\"features\", features),\n",
        "        # (\"clf\", ),\n",
        "        (\"clf\", Ridge()),\n",
        "        #(\"clf\",)\n",
        "    ]\n",
        ")"
      ],
      "metadata": {
        "id": "VuxYYq48awgH"
      },
      "execution_count": 32,
      "outputs": []
    },
    {
      "cell_type": "code",
      "source": [
        "X = dataset.text.astype(str)\n",
        "y = dataset.target"
      ],
      "metadata": {
        "id": "aJ-dUDzoa3HE"
      },
      "execution_count": 70,
      "outputs": []
    },
    {
      "cell_type": "code",
      "source": [
        "X_train,X_test,y_train,y_test = train_test_split(X,y,test_size=0.2,random_state=42)"
      ],
      "metadata": {
        "id": "TjFBfXZsbLgh"
      },
      "execution_count": 71,
      "outputs": []
    },
    {
      "cell_type": "code",
      "source": [
        "pipeline.fit(X_train, y_train)"
      ],
      "metadata": {
        "colab": {
          "base_uri": "https://localhost:8080/"
        },
        "id": "TpRZotqfayGg",
        "outputId": "e0da5b5f-2a5d-4fdd-ba65-b9a06e1b3a19"
      },
      "execution_count": 72,
      "outputs": [
        {
          "output_type": "execute_result",
          "data": {
            "text/plain": [
              "Pipeline(steps=[('features',\n",
              "                 FeatureUnion(transformer_list=[('vect3',\n",
              "                                                 TfidfVectorizer(analyzer='char_wb',\n",
              "                                                                 max_df=0.8,\n",
              "                                                                 min_df=3,\n",
              "                                                                 ngram_range=(2,\n",
              "                                                                              10)))])),\n",
              "                ('clf', Ridge())])"
            ]
          },
          "metadata": {},
          "execution_count": 72
        }
      ]
    },
    {
      "cell_type": "code",
      "source": [
        "arr = np.array([\"ыт дсцйрфз цнфдрф\",\"ыт дсцйрфз цнфдрф не высокая ставка\",\"не высокая ставка\"])\n",
        "pipeline.predict(arr)"
      ],
      "metadata": {
        "colab": {
          "base_uri": "https://localhost:8080/"
        },
        "id": "YC73LcmKxZ3_",
        "outputId": "f5b5fa29-b44a-4f0d-84e3-4f6b8c3c4ff6"
      },
      "execution_count": 73,
      "outputs": [
        {
          "output_type": "execute_result",
          "data": {
            "text/plain": [
              "array([ 0.52735496,  0.30101161, -0.00502993])"
            ]
          },
          "metadata": {},
          "execution_count": 73
        }
      ]
    },
    {
      "cell_type": "code",
      "source": [
        "arr = np.array([\"охлажденное, с пенкой в жару...ммм\"])\n",
        "pipeline.predict(arr)"
      ],
      "metadata": {
        "colab": {
          "base_uri": "https://localhost:8080/"
        },
        "id": "0QEjwJdH0XUk",
        "outputId": "7215e90d-25a9-4326-89a5-3a16f963f9b4"
      },
      "execution_count": 79,
      "outputs": [
        {
          "output_type": "execute_result",
          "data": {
            "text/plain": [
              "array([0.22758544])"
            ]
          },
          "metadata": {},
          "execution_count": 79
        }
      ]
    },
    {
      "cell_type": "code",
      "source": [
        "import joblib"
      ],
      "metadata": {
        "id": "LQ6Vm2CNqG34"
      },
      "execution_count": 112,
      "outputs": []
    },
    {
      "cell_type": "code",
      "source": [
        "joblib.dump(pipeline,'ridge_model.pkl')"
      ],
      "metadata": {
        "colab": {
          "base_uri": "https://localhost:8080/"
        },
        "id": "SN4s914QqM3q",
        "outputId": "210d7194-c06c-4af2-df73-cf511aeab65a"
      },
      "execution_count": 113,
      "outputs": [
        {
          "output_type": "execute_result",
          "data": {
            "text/plain": [
              "['ridge_model.pkl']"
            ]
          },
          "metadata": {},
          "execution_count": 113
        }
      ]
    },
    {
      "cell_type": "code",
      "source": [
        "# score\n",
        "from sklearn.metrics import f1_score, confusion_matrix"
      ],
      "metadata": {
        "id": "hQejdgzaieLQ"
      },
      "execution_count": 80,
      "outputs": []
    },
    {
      "cell_type": "code",
      "source": [
        "def post_processing(X,preds,is_df=True):\n",
        "    for index in range(len(X)):\n",
        "        # проверка строки на уникальность символов\n",
        "        if is_df:\n",
        "            if len(set(X.iloc[index].replace(' ',''))) <= 1:\n",
        "                preds[index] = 1\n",
        "        else:\n",
        "            if len(set(X[index].replace(' ',''))) <= 1:\n",
        "                preds[index] = 1            \n",
        "    return preds"
      ],
      "metadata": {
        "id": "ZSdDJ-3CuQ29"
      },
      "execution_count": 125,
      "outputs": []
    },
    {
      "cell_type": "code",
      "source": [
        "score_train = pipeline.predict(X_train)\n",
        "score_train = post_processing(X_train,score_train)\n",
        "f1_score(y_train,np.round(score_train).clip(0,1))"
      ],
      "metadata": {
        "id": "9w2BcU8GiXtd",
        "colab": {
          "base_uri": "https://localhost:8080/"
        },
        "outputId": "d8b2dd0a-8f9d-41ce-f1ed-926d9723572b"
      },
      "execution_count": 82,
      "outputs": [
        {
          "output_type": "execute_result",
          "data": {
            "text/plain": [
              "0.970854271356784"
            ]
          },
          "metadata": {},
          "execution_count": 82
        }
      ]
    },
    {
      "cell_type": "code",
      "source": [
        "score_test = pipeline.predict(X_test)\n",
        "score_test = post_processing(X_test,score_test)\n",
        "f1_score(y_test,np.round(score_test).clip(0,1))"
      ],
      "metadata": {
        "colab": {
          "base_uri": "https://localhost:8080/"
        },
        "id": "nP6yCd-03SD5",
        "outputId": "fb02f325-fad6-4fee-e532-9bbb58046d8e"
      },
      "execution_count": 83,
      "outputs": [
        {
          "output_type": "execute_result",
          "data": {
            "text/plain": [
              "0.8530259365994236"
            ]
          },
          "metadata": {},
          "execution_count": 83
        }
      ]
    },
    {
      "cell_type": "code",
      "source": [
        "score_test_copy = score_train.copy()\n",
        "for idx in range(len(score_test_copy)):\n",
        "    if score_test_copy[idx] <= 0.25:\n",
        "        score_test_copy[idx] = 0\n",
        "    else:\n",
        "        score_test_copy[idx] = 1\n",
        "f1_score(y_train,np.round(score_test_copy).clip(0,1))"
      ],
      "metadata": {
        "colab": {
          "base_uri": "https://localhost:8080/"
        },
        "id": "MYVKtSAsV9s3",
        "outputId": "fa62be38-0b1d-464d-d4de-4cac96d59919"
      },
      "execution_count": 98,
      "outputs": [
        {
          "output_type": "execute_result",
          "data": {
            "text/plain": [
              "0.9563843236409608"
            ]
          },
          "metadata": {},
          "execution_count": 98
        }
      ]
    },
    {
      "cell_type": "code",
      "source": [
        "score_test_copy = score_test.copy()\n",
        "for idx in range(len(score_test_copy)):\n",
        "    if score_test_copy[idx] <= 0.25:\n",
        "        score_test_copy[idx] = 0\n",
        "    else:\n",
        "        score_test_copy[idx] = 1\n",
        "f1_score(y_test,score_test_copy)"
      ],
      "metadata": {
        "colab": {
          "base_uri": "https://localhost:8080/"
        },
        "id": "S5wHVRde4Smx",
        "outputId": "be2b7371-5291-4c87-e9f2-66d5159fac32"
      },
      "execution_count": 104,
      "outputs": [
        {
          "output_type": "execute_result",
          "data": {
            "text/plain": [
              "0.9157232704402515"
            ]
          },
          "metadata": {},
          "execution_count": 104
        }
      ]
    },
    {
      "cell_type": "code",
      "source": [
        "res_test = pd.DataFrame({'text':X_test,\n",
        "                         'true':y_test,\n",
        "                         'pred':np.round(score_test)})"
      ],
      "metadata": {
        "id": "DhefmscDi9Gs"
      },
      "execution_count": null,
      "outputs": []
    },
    {
      "cell_type": "code",
      "source": [
        "res_test = pd.DataFrame({'text':X_test,\n",
        "                         'true':y_test,\n",
        "                         'pred':score_test_copy})"
      ],
      "metadata": {
        "id": "F-Tn2dnC5r-5"
      },
      "execution_count": 106,
      "outputs": []
    },
    {
      "cell_type": "code",
      "source": [
        "# res_test = pd.DataFrame({'text':X_train,\n",
        "#                          'true':y_train,\n",
        "#                          'pred':score_test_copy})"
      ],
      "metadata": {
        "id": "0fXcQ0zhWKkC"
      },
      "execution_count": 99,
      "outputs": []
    },
    {
      "cell_type": "code",
      "source": [
        "res_test[(res_test.true == 1) & (res_test.pred == 0)]"
      ],
      "metadata": {
        "colab": {
          "base_uri": "https://localhost:8080/",
          "height": 958
        },
        "id": "Z9S16klNjPxa",
        "outputId": "1c650482-3769-4246-dc53-4662dd8da08c"
      },
      "execution_count": 107,
      "outputs": [
        {
          "output_type": "execute_result",
          "data": {
            "text/html": [
              "\n",
              "  <div id=\"df-72720913-625d-4587-a2eb-689f1fd6c26f\">\n",
              "    <div class=\"colab-df-container\">\n",
              "      <div>\n",
              "<style scoped>\n",
              "    .dataframe tbody tr th:only-of-type {\n",
              "        vertical-align: middle;\n",
              "    }\n",
              "\n",
              "    .dataframe tbody tr th {\n",
              "        vertical-align: top;\n",
              "    }\n",
              "\n",
              "    .dataframe thead th {\n",
              "        text-align: right;\n",
              "    }\n",
              "</style>\n",
              "<table border=\"1\" class=\"dataframe\">\n",
              "  <thead>\n",
              "    <tr style=\"text-align: right;\">\n",
              "      <th></th>\n",
              "      <th>text</th>\n",
              "      <th>true</th>\n",
              "      <th>pred</th>\n",
              "    </tr>\n",
              "  </thead>\n",
              "  <tbody>\n",
              "    <tr>\n",
              "      <th>75762</th>\n",
              "      <td>я ебу</td>\n",
              "      <td>1.0</td>\n",
              "      <td>0.0</td>\n",
              "    </tr>\n",
              "    <tr>\n",
              "      <th>69199</th>\n",
              "      <td>ууусии</td>\n",
              "      <td>1.0</td>\n",
              "      <td>0.0</td>\n",
              "    </tr>\n",
              "    <tr>\n",
              "      <th>15603</th>\n",
              "      <td>женсоке</td>\n",
              "      <td>1.0</td>\n",
              "      <td>0.0</td>\n",
              "    </tr>\n",
              "    <tr>\n",
              "      <th>630</th>\n",
              "      <td>5 удыцбв5ь</td>\n",
              "      <td>1.0</td>\n",
              "      <td>0.0</td>\n",
              "    </tr>\n",
              "    <tr>\n",
              "      <th>2935</th>\n",
              "      <td>бс и</td>\n",
              "      <td>1.0</td>\n",
              "      <td>0.0</td>\n",
              "    </tr>\n",
              "    <tr>\n",
              "      <th>2683</th>\n",
              "      <td>аямяммя</td>\n",
              "      <td>1.0</td>\n",
              "      <td>0.0</td>\n",
              "    </tr>\n",
              "    <tr>\n",
              "      <th>31164</th>\n",
              "      <td>мяу мяу мяу</td>\n",
              "      <td>1.0</td>\n",
              "      <td>0.0</td>\n",
              "    </tr>\n",
              "    <tr>\n",
              "      <th>16895</th>\n",
              "      <td>зжмуро</td>\n",
              "      <td>1.0</td>\n",
              "      <td>0.0</td>\n",
              "    </tr>\n",
              "    <tr>\n",
              "      <th>45243</th>\n",
              "      <td>омложь</td>\n",
              "      <td>1.0</td>\n",
              "      <td>0.0</td>\n",
              "    </tr>\n",
              "    <tr>\n",
              "      <th>66647</th>\n",
              "      <td>ти бон</td>\n",
              "      <td>1.0</td>\n",
              "      <td>0.0</td>\n",
              "    </tr>\n",
              "    <tr>\n",
              "      <th>65786</th>\n",
              "      <td>сщичтнч</td>\n",
              "      <td>1.0</td>\n",
              "      <td>0.0</td>\n",
              "    </tr>\n",
              "    <tr>\n",
              "      <th>42920</th>\n",
              "      <td>нплналн</td>\n",
              "      <td>1.0</td>\n",
              "      <td>0.0</td>\n",
              "    </tr>\n",
              "    <tr>\n",
              "      <th>46272</th>\n",
              "      <td>ортик</td>\n",
              "      <td>1.0</td>\n",
              "      <td>0.0</td>\n",
              "    </tr>\n",
              "    <tr>\n",
              "      <th>50352</th>\n",
              "      <td>питуч</td>\n",
              "      <td>1.0</td>\n",
              "      <td>0.0</td>\n",
              "    </tr>\n",
              "    <tr>\n",
              "      <th>5689</th>\n",
              "      <td>вагошзъ воед</td>\n",
              "      <td>1.0</td>\n",
              "      <td>0.0</td>\n",
              "    </tr>\n",
              "    <tr>\n",
              "      <th>11668</th>\n",
              "      <td>гонег</td>\n",
              "      <td>1.0</td>\n",
              "      <td>0.0</td>\n",
              "    </tr>\n",
              "    <tr>\n",
              "      <th>971</th>\n",
              "      <td>пратиапита</td>\n",
              "      <td>1.0</td>\n",
              "      <td>0.0</td>\n",
              "    </tr>\n",
              "    <tr>\n",
              "      <th>1033</th>\n",
              "      <td>раыра</td>\n",
              "      <td>1.0</td>\n",
              "      <td>0.0</td>\n",
              "    </tr>\n",
              "    <tr>\n",
              "      <th>49957</th>\n",
              "      <td>павов</td>\n",
              "      <td>1.0</td>\n",
              "      <td>0.0</td>\n",
              "    </tr>\n",
              "    <tr>\n",
              "      <th>30813</th>\n",
              "      <td>морюл</td>\n",
              "      <td>1.0</td>\n",
              "      <td>0.0</td>\n",
              "    </tr>\n",
              "    <tr>\n",
              "      <th>149</th>\n",
              "      <td>.ю...ы.ц.ы.ы..ы.в.в.в..ы.ы</td>\n",
              "      <td>1.0</td>\n",
              "      <td>0.0</td>\n",
              "    </tr>\n",
              "    <tr>\n",
              "      <th>52128</th>\n",
              "      <td>помол</td>\n",
              "      <td>1.0</td>\n",
              "      <td>0.0</td>\n",
              "    </tr>\n",
              "    <tr>\n",
              "      <th>69567</th>\n",
              "      <td>хз, хз, хз, хз</td>\n",
              "      <td>1.0</td>\n",
              "      <td>0.0</td>\n",
              "    </tr>\n",
              "    <tr>\n",
              "      <th>512</th>\n",
              "      <td>21 к</td>\n",
              "      <td>1.0</td>\n",
              "      <td>0.0</td>\n",
              "    </tr>\n",
              "    <tr>\n",
              "      <th>75438</th>\n",
              "      <td>юренд</td>\n",
              "      <td>1.0</td>\n",
              "      <td>0.0</td>\n",
              "    </tr>\n",
              "    <tr>\n",
              "      <th>1784</th>\n",
              "      <td>ага угу ага угу ага</td>\n",
              "      <td>1.0</td>\n",
              "      <td>0.0</td>\n",
              "    </tr>\n",
              "    <tr>\n",
              "      <th>923</th>\n",
              "      <td>атвтвтвтвттв</td>\n",
              "      <td>1.0</td>\n",
              "      <td>0.0</td>\n",
              "    </tr>\n",
              "    <tr>\n",
              "      <th>1441</th>\n",
              "      <td>мячсмяс</td>\n",
              "      <td>1.0</td>\n",
              "      <td>0.0</td>\n",
              "    </tr>\n",
              "    <tr>\n",
              "      <th>508</th>\n",
              "      <td>20 процентов</td>\n",
              "      <td>1.0</td>\n",
              "      <td>0.0</td>\n",
              "    </tr>\n",
              "  </tbody>\n",
              "</table>\n",
              "</div>\n",
              "      <button class=\"colab-df-convert\" onclick=\"convertToInteractive('df-72720913-625d-4587-a2eb-689f1fd6c26f')\"\n",
              "              title=\"Convert this dataframe to an interactive table.\"\n",
              "              style=\"display:none;\">\n",
              "        \n",
              "  <svg xmlns=\"http://www.w3.org/2000/svg\" height=\"24px\"viewBox=\"0 0 24 24\"\n",
              "       width=\"24px\">\n",
              "    <path d=\"M0 0h24v24H0V0z\" fill=\"none\"/>\n",
              "    <path d=\"M18.56 5.44l.94 2.06.94-2.06 2.06-.94-2.06-.94-.94-2.06-.94 2.06-2.06.94zm-11 1L8.5 8.5l.94-2.06 2.06-.94-2.06-.94L8.5 2.5l-.94 2.06-2.06.94zm10 10l.94 2.06.94-2.06 2.06-.94-2.06-.94-.94-2.06-.94 2.06-2.06.94z\"/><path d=\"M17.41 7.96l-1.37-1.37c-.4-.4-.92-.59-1.43-.59-.52 0-1.04.2-1.43.59L10.3 9.45l-7.72 7.72c-.78.78-.78 2.05 0 2.83L4 21.41c.39.39.9.59 1.41.59.51 0 1.02-.2 1.41-.59l7.78-7.78 2.81-2.81c.8-.78.8-2.07 0-2.86zM5.41 20L4 18.59l7.72-7.72 1.47 1.35L5.41 20z\"/>\n",
              "  </svg>\n",
              "      </button>\n",
              "      \n",
              "  <style>\n",
              "    .colab-df-container {\n",
              "      display:flex;\n",
              "      flex-wrap:wrap;\n",
              "      gap: 12px;\n",
              "    }\n",
              "\n",
              "    .colab-df-convert {\n",
              "      background-color: #E8F0FE;\n",
              "      border: none;\n",
              "      border-radius: 50%;\n",
              "      cursor: pointer;\n",
              "      display: none;\n",
              "      fill: #1967D2;\n",
              "      height: 32px;\n",
              "      padding: 0 0 0 0;\n",
              "      width: 32px;\n",
              "    }\n",
              "\n",
              "    .colab-df-convert:hover {\n",
              "      background-color: #E2EBFA;\n",
              "      box-shadow: 0px 1px 2px rgba(60, 64, 67, 0.3), 0px 1px 3px 1px rgba(60, 64, 67, 0.15);\n",
              "      fill: #174EA6;\n",
              "    }\n",
              "\n",
              "    [theme=dark] .colab-df-convert {\n",
              "      background-color: #3B4455;\n",
              "      fill: #D2E3FC;\n",
              "    }\n",
              "\n",
              "    [theme=dark] .colab-df-convert:hover {\n",
              "      background-color: #434B5C;\n",
              "      box-shadow: 0px 1px 3px 1px rgba(0, 0, 0, 0.15);\n",
              "      filter: drop-shadow(0px 1px 2px rgba(0, 0, 0, 0.3));\n",
              "      fill: #FFFFFF;\n",
              "    }\n",
              "  </style>\n",
              "\n",
              "      <script>\n",
              "        const buttonEl =\n",
              "          document.querySelector('#df-72720913-625d-4587-a2eb-689f1fd6c26f button.colab-df-convert');\n",
              "        buttonEl.style.display =\n",
              "          google.colab.kernel.accessAllowed ? 'block' : 'none';\n",
              "\n",
              "        async function convertToInteractive(key) {\n",
              "          const element = document.querySelector('#df-72720913-625d-4587-a2eb-689f1fd6c26f');\n",
              "          const dataTable =\n",
              "            await google.colab.kernel.invokeFunction('convertToInteractive',\n",
              "                                                     [key], {});\n",
              "          if (!dataTable) return;\n",
              "\n",
              "          const docLinkHtml = 'Like what you see? Visit the ' +\n",
              "            '<a target=\"_blank\" href=https://colab.research.google.com/notebooks/data_table.ipynb>data table notebook</a>'\n",
              "            + ' to learn more about interactive tables.';\n",
              "          element.innerHTML = '';\n",
              "          dataTable['output_type'] = 'display_data';\n",
              "          await google.colab.output.renderOutput(dataTable, element);\n",
              "          const docLink = document.createElement('div');\n",
              "          docLink.innerHTML = docLinkHtml;\n",
              "          element.appendChild(docLink);\n",
              "        }\n",
              "      </script>\n",
              "    </div>\n",
              "  </div>\n",
              "  "
            ],
            "text/plain": [
              "                             text  true  pred\n",
              "75762                       я ебу   1.0   0.0\n",
              "69199                      ууусии   1.0   0.0\n",
              "15603                     женсоке   1.0   0.0\n",
              "630                    5 удыцбв5ь   1.0   0.0\n",
              "2935                         бс и   1.0   0.0\n",
              "2683                      аямяммя   1.0   0.0\n",
              "31164                 мяу мяу мяу   1.0   0.0\n",
              "16895                      зжмуро   1.0   0.0\n",
              "45243                      омложь   1.0   0.0\n",
              "66647                      ти бон   1.0   0.0\n",
              "65786                     сщичтнч   1.0   0.0\n",
              "42920                     нплналн   1.0   0.0\n",
              "46272                       ортик   1.0   0.0\n",
              "50352                       питуч   1.0   0.0\n",
              "5689                 вагошзъ воед   1.0   0.0\n",
              "11668                       гонег   1.0   0.0\n",
              "971                    пратиапита   1.0   0.0\n",
              "1033                        раыра   1.0   0.0\n",
              "49957                       павов   1.0   0.0\n",
              "30813                       морюл   1.0   0.0\n",
              "149    .ю...ы.ц.ы.ы..ы.в.в.в..ы.ы   1.0   0.0\n",
              "52128                       помол   1.0   0.0\n",
              "69567              хз, хз, хз, хз   1.0   0.0\n",
              "512                          21 к   1.0   0.0\n",
              "75438                       юренд   1.0   0.0\n",
              "1784          ага угу ага угу ага   1.0   0.0\n",
              "923                  атвтвтвтвттв   1.0   0.0\n",
              "1441                      мячсмяс   1.0   0.0\n",
              "508                  20 процентов   1.0   0.0"
            ]
          },
          "metadata": {},
          "execution_count": 107
        }
      ]
    },
    {
      "cell_type": "code",
      "source": [
        "res_test[(res_test.true == 0) & (res_test.pred == 1)]"
      ],
      "metadata": {
        "colab": {
          "base_uri": "https://localhost:8080/",
          "height": 1000
        },
        "id": "Ex8omwPbT7sE",
        "outputId": "ecb63d19-30d6-4243-aa1f-d52c07ecfbb5"
      },
      "execution_count": 108,
      "outputs": [
        {
          "output_type": "execute_result",
          "data": {
            "text/html": [
              "\n",
              "  <div id=\"df-34bef97d-b447-4a6f-a571-68f5be33c16d\">\n",
              "    <div class=\"colab-df-container\">\n",
              "      <div>\n",
              "<style scoped>\n",
              "    .dataframe tbody tr th:only-of-type {\n",
              "        vertical-align: middle;\n",
              "    }\n",
              "\n",
              "    .dataframe tbody tr th {\n",
              "        vertical-align: top;\n",
              "    }\n",
              "\n",
              "    .dataframe thead th {\n",
              "        text-align: right;\n",
              "    }\n",
              "</style>\n",
              "<table border=\"1\" class=\"dataframe\">\n",
              "  <thead>\n",
              "    <tr style=\"text-align: right;\">\n",
              "      <th></th>\n",
              "      <th>text</th>\n",
              "      <th>true</th>\n",
              "      <th>pred</th>\n",
              "    </tr>\n",
              "  </thead>\n",
              "  <tbody>\n",
              "    <tr>\n",
              "      <th>31524</th>\n",
              "      <td>на фоне ааа не нравится</td>\n",
              "      <td>0.0</td>\n",
              "      <td>1.0</td>\n",
              "    </tr>\n",
              "    <tr>\n",
              "      <th>22021</th>\n",
              "      <td>ключевая фраза от 10 ... уже не нравится</td>\n",
              "      <td>0.0</td>\n",
              "      <td>1.0</td>\n",
              "    </tr>\n",
              "    <tr>\n",
              "      <th>9281</th>\n",
              "      <td>все понятноо</td>\n",
              "      <td>0.0</td>\n",
              "      <td>1.0</td>\n",
              "    </tr>\n",
              "    <tr>\n",
              "      <th>8260</th>\n",
              "      <td>все щл</td>\n",
              "      <td>0.0</td>\n",
              "      <td>1.0</td>\n",
              "    </tr>\n",
              "    <tr>\n",
              "      <th>25202</th>\n",
              "      <td>круто и луис армстронг в тему</td>\n",
              "      <td>0.0</td>\n",
              "      <td>1.0</td>\n",
              "    </tr>\n",
              "    <tr>\n",
              "      <th>42696</th>\n",
              "      <td>нооо</td>\n",
              "      <td>0.0</td>\n",
              "      <td>1.0</td>\n",
              "    </tr>\n",
              "    <tr>\n",
              "      <th>42743</th>\n",
              "      <td>норм цезарь ролл</td>\n",
              "      <td>0.0</td>\n",
              "      <td>1.0</td>\n",
              "    </tr>\n",
              "    <tr>\n",
              "      <th>1180</th>\n",
              "      <td>лщкщелщ ш нфытщ зкщ флсшнг</td>\n",
              "      <td>0.0</td>\n",
              "      <td>1.0</td>\n",
              "    </tr>\n",
              "    <tr>\n",
              "      <th>1221</th>\n",
              "      <td>ьало верится</td>\n",
              "      <td>0.0</td>\n",
              "      <td>1.0</td>\n",
              "    </tr>\n",
              "    <tr>\n",
              "      <th>43705</th>\n",
              "      <td>ну воо так</td>\n",
              "      <td>0.0</td>\n",
              "      <td>1.0</td>\n",
              "    </tr>\n",
              "    <tr>\n",
              "      <th>12640</th>\n",
              "      <td>джуниор</td>\n",
              "      <td>0.0</td>\n",
              "      <td>1.0</td>\n",
              "    </tr>\n",
              "    <tr>\n",
              "      <th>150</th>\n",
              "      <td>.юмор</td>\n",
              "      <td>0.0</td>\n",
              "      <td>1.0</td>\n",
              "    </tr>\n",
              "    <tr>\n",
              "      <th>62064</th>\n",
              "      <td>сироп</td>\n",
              "      <td>0.0</td>\n",
              "      <td>1.0</td>\n",
              "    </tr>\n",
              "    <tr>\n",
              "      <th>38511</th>\n",
              "      <td>не цепляет аообще</td>\n",
              "      <td>0.0</td>\n",
              "      <td>1.0</td>\n",
              "    </tr>\n",
              "    <tr>\n",
              "      <th>45204</th>\n",
              "      <td>окккей</td>\n",
              "      <td>0.0</td>\n",
              "      <td>1.0</td>\n",
              "    </tr>\n",
              "    <tr>\n",
              "      <th>1430</th>\n",
              "      <td>мыуютфямфтшу пщмщкше яф ыуишф</td>\n",
              "      <td>0.0</td>\n",
              "      <td>1.0</td>\n",
              "    </tr>\n",
              "    <tr>\n",
              "      <th>59384</th>\n",
              "      <td>пу55упупуп</td>\n",
              "      <td>0.0</td>\n",
              "      <td>1.0</td>\n",
              "    </tr>\n",
              "    <tr>\n",
              "      <th>26100</th>\n",
              "      <td>лонгер</td>\n",
              "      <td>0.0</td>\n",
              "      <td>1.0</td>\n",
              "    </tr>\n",
              "    <tr>\n",
              "      <th>72097</th>\n",
              "      <td>цена за литр или 0. 5</td>\n",
              "      <td>0.0</td>\n",
              "      <td>1.0</td>\n",
              "    </tr>\n",
              "    <tr>\n",
              "      <th>69494</th>\n",
              "      <td>фууу</td>\n",
              "      <td>0.0</td>\n",
              "      <td>1.0</td>\n",
              "    </tr>\n",
              "    <tr>\n",
              "      <th>15755</th>\n",
              "      <td>за 119</td>\n",
              "      <td>0.0</td>\n",
              "      <td>1.0</td>\n",
              "    </tr>\n",
              "    <tr>\n",
              "      <th>1181</th>\n",
              "      <td>лзфелщ</td>\n",
              "      <td>0.0</td>\n",
              "      <td>1.0</td>\n",
              "    </tr>\n",
              "    <tr>\n",
              "      <th>1081</th>\n",
              "      <td>ш вщте лтщц</td>\n",
              "      <td>0.0</td>\n",
              "      <td>1.0</td>\n",
              "    </tr>\n",
              "    <tr>\n",
              "      <th>33877</th>\n",
              "      <td>не каждому нужен минимальный лимит 50 000 р</td>\n",
              "      <td>0.0</td>\n",
              "      <td>1.0</td>\n",
              "    </tr>\n",
              "    <tr>\n",
              "      <th>836</th>\n",
              "      <td>вф туе</td>\n",
              "      <td>0.0</td>\n",
              "      <td>1.0</td>\n",
              "    </tr>\n",
              "    <tr>\n",
              "      <th>69601</th>\n",
              "      <td>хмуро</td>\n",
              "      <td>0.0</td>\n",
              "      <td>1.0</td>\n",
              "    </tr>\n",
              "    <tr>\n",
              "      <th>1326</th>\n",
              "      <td>криво выглядит ве// упер</td>\n",
              "      <td>0.0</td>\n",
              "      <td>1.0</td>\n",
              "    </tr>\n",
              "    <tr>\n",
              "      <th>62374</th>\n",
              "      <td>скучно. бла бла бла</td>\n",
              "      <td>0.0</td>\n",
              "      <td>1.0</td>\n",
              "    </tr>\n",
              "    <tr>\n",
              "      <th>58253</th>\n",
              "      <td>продлили</td>\n",
              "      <td>0.0</td>\n",
              "      <td>1.0</td>\n",
              "    </tr>\n",
              "    <tr>\n",
              "      <th>444</th>\n",
              "      <td>123 не знаю</td>\n",
              "      <td>0.0</td>\n",
              "      <td>1.0</td>\n",
              "    </tr>\n",
              "    <tr>\n",
              "      <th>32077</th>\n",
              "      <td>намааана</td>\n",
              "      <td>0.0</td>\n",
              "      <td>1.0</td>\n",
              "    </tr>\n",
              "    <tr>\n",
              "      <th>58101</th>\n",
              "      <td>про идиш</td>\n",
              "      <td>0.0</td>\n",
              "      <td>1.0</td>\n",
              "    </tr>\n",
              "    <tr>\n",
              "      <th>1175</th>\n",
              "      <td>лдфыыытщ</td>\n",
              "      <td>0.0</td>\n",
              "      <td>1.0</td>\n",
              "    </tr>\n",
              "    <tr>\n",
              "      <th>67827</th>\n",
              "      <td>удобно и не прихотливо ... ...</td>\n",
              "      <td>0.0</td>\n",
              "      <td>1.0</td>\n",
              "    </tr>\n",
              "    <tr>\n",
              "      <th>79079</th>\n",
              "      <td>яркмй</td>\n",
              "      <td>0.0</td>\n",
              "      <td>1.0</td>\n",
              "    </tr>\n",
              "    <tr>\n",
              "      <th>75930</th>\n",
              "      <td>я люблю фгвш</td>\n",
              "      <td>0.0</td>\n",
              "      <td>1.0</td>\n",
              "    </tr>\n",
              "    <tr>\n",
              "      <th>21232</th>\n",
              "      <td>какпупупукпку</td>\n",
              "      <td>0.0</td>\n",
              "      <td>1.0</td>\n",
              "    </tr>\n",
              "    <tr>\n",
              "      <th>60906</th>\n",
              "      <td>рооо уже есть такие предложения на рынке</td>\n",
              "      <td>0.0</td>\n",
              "      <td>1.0</td>\n",
              "    </tr>\n",
              "  </tbody>\n",
              "</table>\n",
              "</div>\n",
              "      <button class=\"colab-df-convert\" onclick=\"convertToInteractive('df-34bef97d-b447-4a6f-a571-68f5be33c16d')\"\n",
              "              title=\"Convert this dataframe to an interactive table.\"\n",
              "              style=\"display:none;\">\n",
              "        \n",
              "  <svg xmlns=\"http://www.w3.org/2000/svg\" height=\"24px\"viewBox=\"0 0 24 24\"\n",
              "       width=\"24px\">\n",
              "    <path d=\"M0 0h24v24H0V0z\" fill=\"none\"/>\n",
              "    <path d=\"M18.56 5.44l.94 2.06.94-2.06 2.06-.94-2.06-.94-.94-2.06-.94 2.06-2.06.94zm-11 1L8.5 8.5l.94-2.06 2.06-.94-2.06-.94L8.5 2.5l-.94 2.06-2.06.94zm10 10l.94 2.06.94-2.06 2.06-.94-2.06-.94-.94-2.06-.94 2.06-2.06.94z\"/><path d=\"M17.41 7.96l-1.37-1.37c-.4-.4-.92-.59-1.43-.59-.52 0-1.04.2-1.43.59L10.3 9.45l-7.72 7.72c-.78.78-.78 2.05 0 2.83L4 21.41c.39.39.9.59 1.41.59.51 0 1.02-.2 1.41-.59l7.78-7.78 2.81-2.81c.8-.78.8-2.07 0-2.86zM5.41 20L4 18.59l7.72-7.72 1.47 1.35L5.41 20z\"/>\n",
              "  </svg>\n",
              "      </button>\n",
              "      \n",
              "  <style>\n",
              "    .colab-df-container {\n",
              "      display:flex;\n",
              "      flex-wrap:wrap;\n",
              "      gap: 12px;\n",
              "    }\n",
              "\n",
              "    .colab-df-convert {\n",
              "      background-color: #E8F0FE;\n",
              "      border: none;\n",
              "      border-radius: 50%;\n",
              "      cursor: pointer;\n",
              "      display: none;\n",
              "      fill: #1967D2;\n",
              "      height: 32px;\n",
              "      padding: 0 0 0 0;\n",
              "      width: 32px;\n",
              "    }\n",
              "\n",
              "    .colab-df-convert:hover {\n",
              "      background-color: #E2EBFA;\n",
              "      box-shadow: 0px 1px 2px rgba(60, 64, 67, 0.3), 0px 1px 3px 1px rgba(60, 64, 67, 0.15);\n",
              "      fill: #174EA6;\n",
              "    }\n",
              "\n",
              "    [theme=dark] .colab-df-convert {\n",
              "      background-color: #3B4455;\n",
              "      fill: #D2E3FC;\n",
              "    }\n",
              "\n",
              "    [theme=dark] .colab-df-convert:hover {\n",
              "      background-color: #434B5C;\n",
              "      box-shadow: 0px 1px 3px 1px rgba(0, 0, 0, 0.15);\n",
              "      filter: drop-shadow(0px 1px 2px rgba(0, 0, 0, 0.3));\n",
              "      fill: #FFFFFF;\n",
              "    }\n",
              "  </style>\n",
              "\n",
              "      <script>\n",
              "        const buttonEl =\n",
              "          document.querySelector('#df-34bef97d-b447-4a6f-a571-68f5be33c16d button.colab-df-convert');\n",
              "        buttonEl.style.display =\n",
              "          google.colab.kernel.accessAllowed ? 'block' : 'none';\n",
              "\n",
              "        async function convertToInteractive(key) {\n",
              "          const element = document.querySelector('#df-34bef97d-b447-4a6f-a571-68f5be33c16d');\n",
              "          const dataTable =\n",
              "            await google.colab.kernel.invokeFunction('convertToInteractive',\n",
              "                                                     [key], {});\n",
              "          if (!dataTable) return;\n",
              "\n",
              "          const docLinkHtml = 'Like what you see? Visit the ' +\n",
              "            '<a target=\"_blank\" href=https://colab.research.google.com/notebooks/data_table.ipynb>data table notebook</a>'\n",
              "            + ' to learn more about interactive tables.';\n",
              "          element.innerHTML = '';\n",
              "          dataTable['output_type'] = 'display_data';\n",
              "          await google.colab.output.renderOutput(dataTable, element);\n",
              "          const docLink = document.createElement('div');\n",
              "          docLink.innerHTML = docLinkHtml;\n",
              "          element.appendChild(docLink);\n",
              "        }\n",
              "      </script>\n",
              "    </div>\n",
              "  </div>\n",
              "  "
            ],
            "text/plain": [
              "                                              text  true  pred\n",
              "31524                      на фоне ааа не нравится   0.0   1.0\n",
              "22021     ключевая фраза от 10 ... уже не нравится   0.0   1.0\n",
              "9281                                  все понятноо   0.0   1.0\n",
              "8260                                        все щл   0.0   1.0\n",
              "25202                круто и луис армстронг в тему   0.0   1.0\n",
              "42696                                         нооо   0.0   1.0\n",
              "42743                             норм цезарь ролл   0.0   1.0\n",
              "1180                    лщкщелщ ш нфытщ зкщ флсшнг   0.0   1.0\n",
              "1221                                  ьало верится   0.0   1.0\n",
              "43705                                   ну воо так   0.0   1.0\n",
              "12640                                      джуниор   0.0   1.0\n",
              "150                                          .юмор   0.0   1.0\n",
              "62064                                        сироп   0.0   1.0\n",
              "38511                            не цепляет аообще   0.0   1.0\n",
              "45204                                       окккей   0.0   1.0\n",
              "1430                 мыуютфямфтшу пщмщкше яф ыуишф   0.0   1.0\n",
              "59384                                   пу55упупуп   0.0   1.0\n",
              "26100                                       лонгер   0.0   1.0\n",
              "72097                        цена за литр или 0. 5   0.0   1.0\n",
              "69494                                         фууу   0.0   1.0\n",
              "15755                                       за 119   0.0   1.0\n",
              "1181                                        лзфелщ   0.0   1.0\n",
              "1081                                   ш вщте лтщц   0.0   1.0\n",
              "33877  не каждому нужен минимальный лимит 50 000 р   0.0   1.0\n",
              "836                                         вф туе   0.0   1.0\n",
              "69601                                        хмуро   0.0   1.0\n",
              "1326                      криво выглядит ве// упер   0.0   1.0\n",
              "62374                          скучно. бла бла бла   0.0   1.0\n",
              "58253                                     продлили   0.0   1.0\n",
              "444                                    123 не знаю   0.0   1.0\n",
              "32077                                     намааана   0.0   1.0\n",
              "58101                                     про идиш   0.0   1.0\n",
              "1175                                      лдфыыытщ   0.0   1.0\n",
              "67827              удобно и не прихотливо ... ...    0.0   1.0\n",
              "79079                                        яркмй   0.0   1.0\n",
              "75930                                 я люблю фгвш   0.0   1.0\n",
              "21232                                какпупупукпку   0.0   1.0\n",
              "60906     рооо уже есть такие предложения на рынке   0.0   1.0"
            ]
          },
          "metadata": {},
          "execution_count": 108
        }
      ]
    },
    {
      "cell_type": "code",
      "source": [
        "confusion_matrix(y_test,np.round(score_test).clip(0,1))"
      ],
      "metadata": {
        "colab": {
          "base_uri": "https://localhost:8080/"
        },
        "id": "jqhqEOWoo8bn",
        "outputId": "98527164-54e4-4cde-9340-8bd65c137db1"
      },
      "execution_count": null,
      "outputs": [
        {
          "output_type": "execute_result",
          "data": {
            "text/plain": [
              "array([[15621,    15],\n",
              "       [  118,   248]])"
            ]
          },
          "metadata": {},
          "execution_count": 345
        }
      ]
    },
    {
      "cell_type": "code",
      "source": [
        "confusion_matrix(y_test,np.round(score_test_copy).clip(0,1))"
      ],
      "metadata": {
        "colab": {
          "base_uri": "https://localhost:8080/"
        },
        "id": "EyGNrsZDv2lS",
        "outputId": "4927babb-f57f-4b17-c361-f2a843138382"
      },
      "execution_count": null,
      "outputs": [
        {
          "output_type": "execute_result",
          "data": {
            "text/plain": [
              "array([[15567,    46],\n",
              "       [   46,   343]])"
            ]
          },
          "metadata": {},
          "execution_count": 243
        }
      ]
    },
    {
      "cell_type": "code",
      "source": [
        "confusion_matrix(y_test,np.round(score_test_copy).clip(0,1))"
      ],
      "metadata": {
        "colab": {
          "base_uri": "https://localhost:8080/"
        },
        "id": "umu9Cd-t5vjg",
        "outputId": "687d9a69-aeb3-4eef-be84-bf62b4112fa7"
      },
      "execution_count": null,
      "outputs": [
        {
          "output_type": "execute_result",
          "data": {
            "text/plain": [
              "array([[15556,    57],\n",
              "       [   35,   354]])"
            ]
          },
          "metadata": {},
          "execution_count": 403
        }
      ]
    },
    {
      "cell_type": "code",
      "source": [
        "confusion_matrix(y_test,np.round(score_test_copy).clip(0,1))"
      ],
      "metadata": {
        "colab": {
          "base_uri": "https://localhost:8080/"
        },
        "id": "p16lrwHa1JYt",
        "outputId": "d1d8fb50-1f58-4027-d147-2945770ce537"
      },
      "execution_count": 109,
      "outputs": [
        {
          "output_type": "execute_result",
          "data": {
            "text/plain": [
              "array([[15571,    38],\n",
              "       [   29,   364]])"
            ]
          },
          "metadata": {},
          "execution_count": 109
        }
      ]
    },
    {
      "cell_type": "markdown",
      "source": [
        "## pack model"
      ],
      "metadata": {
        "id": "UZo0aZipNMjc"
      }
    },
    {
      "cell_type": "code",
      "source": [
        "import joblib\n",
        "import pathlib"
      ],
      "metadata": {
        "id": "O3xM8W912REg"
      },
      "execution_count": 111,
      "outputs": []
    },
    {
      "cell_type": "code",
      "source": [
        "def predict(model,text):\n",
        "    text = word_collapse(text,1)\n",
        "    # print(text)\n",
        "    text = transliter(text)\n",
        "    # print(text)\n",
        "    pred = model.predict(np.asarray([text]))\n",
        "    pred = post_processing([text],pred,False)\n",
        "    return 0 if pred <= 1/4 else 1"
      ],
      "metadata": {
        "id": "gEgVCwlE2SgT"
      },
      "execution_count": 188,
      "outputs": []
    },
    {
      "cell_type": "code",
      "source": [
        "model = joblib.load('ridge_model.pkl')"
      ],
      "metadata": {
        "id": "Cawipzw82tV5"
      },
      "execution_count": 116,
      "outputs": []
    },
    {
      "cell_type": "code",
      "source": [
        "predict(model,\"кисимиси\")"
      ],
      "metadata": {
        "colab": {
          "base_uri": "https://localhost:8080/"
        },
        "id": "ns8I9ULc4Kis",
        "outputId": "810c402d-54ce-4d01-f5bd-662d851ed950"
      },
      "execution_count": 196,
      "outputs": [
        {
          "output_type": "execute_result",
          "data": {
            "text/plain": [
              "0"
            ]
          },
          "metadata": {},
          "execution_count": 196
        }
      ]
    },
    {
      "cell_type": "code",
      "source": [
        "predict(model,\"даааaaaaaaa\")"
      ],
      "metadata": {
        "colab": {
          "base_uri": "https://localhost:8080/"
        },
        "id": "LMBDe2Ga5IoH",
        "outputId": "74218c76-b275-4009-b87d-569f58da5cc5"
      },
      "execution_count": 159,
      "outputs": [
        {
          "output_type": "stream",
          "name": "stdout",
          "text": [
            "даф\n"
          ]
        },
        {
          "output_type": "execute_result",
          "data": {
            "text/plain": [
              "1"
            ]
          },
          "metadata": {},
          "execution_count": 159
        }
      ]
    }
  ]
}